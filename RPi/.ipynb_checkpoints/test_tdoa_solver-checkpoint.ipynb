{
 "cells": [
  {
   "cell_type": "code",
   "execution_count": 1,
   "id": "f8b7305f",
   "metadata": {},
   "outputs": [],
   "source": [
    "import numpy as np\n",
    "from scipy.optimize import fsolve,root\n",
    "import matplotlib.pyplot as plt"
   ]
  },
  {
   "cell_type": "code",
   "execution_count": 2,
   "id": "f1395bf3",
   "metadata": {},
   "outputs": [],
   "source": [
    "def tdoa_solver(x,*args):\n",
    "    anchor_loc = args[0]\n",
    "    tdoa_mat = args[1]\n",
    "    \n",
    "    a = []\n",
    "    for i in np.arange(tdoa_mat.shape[0]):\n",
    "        for j in np.arange(tdoa_mat.shape[1]):\n",
    "            if(tdoa_mat[i,j]!=0):\n",
    "                a.append(  -np.sqrt((x[0]-anchor_loc[i,0])**2+(x[1]-anchor_loc[i,1])**2)+np.sqrt((x[0]-anchor_loc[j,0])**2+(x[1]-anchor_loc[j,1])**2)-tdoa_mat[i,j]  )\n",
    "    return a\n",
    "    "
   ]
  },
  {
   "cell_type": "code",
   "execution_count": 3,
   "id": "941c0ec1",
   "metadata": {},
   "outputs": [],
   "source": [
    "def toa_solver(x,*args):\n",
    "    anchor_loc = args[0]\n",
    "    toa_vec = args[1]\n",
    "    \n",
    "    a = []\n",
    "    for i in np.arange(toa_vec.shape[0]):\n",
    "        if(toa_vec[i]!=0):\n",
    "            a.append(  np.sqrt((x[0]-anchor_loc[i,0])**2+(x[1]-anchor_loc[i,1])**2)-toa_vec[i]  )\n",
    "    return a\n",
    "    "
   ]
  },
  {
   "cell_type": "markdown",
   "id": "c473cb81",
   "metadata": {},
   "source": [
    "## Test TDoA"
   ]
  },
  {
   "cell_type": "code",
   "execution_count": 4,
   "id": "a352d857",
   "metadata": {},
   "outputs": [
    {
     "name": "stdout",
     "output_type": "stream",
     "text": [
      "[[ 0.          1.41558155 -1.45608819  0.11885086]\n",
      " [ 0.          0.          0.          0.        ]\n",
      " [ 0.          0.          0.          0.        ]\n",
      " [ 0.          0.          0.          0.        ]]\n"
     ]
    }
   ],
   "source": [
    "anchor_loc = np.array([[0,0],[10,0],[0,10],[10,10]])\n",
    "tag_loc = np.array([4,6])\n",
    "noise = 0.2\n",
    "\n",
    "tag_anchor_distance = np.linalg.norm(anchor_loc-tag_loc, axis=1)\n",
    "tdoa_mat = np.zeros([anchor_loc.shape[0],anchor_loc.shape[0]])\n",
    "tdoa_mat[0,1:] = tag_anchor_distance[1:]-tag_anchor_distance[0] + noise*np.random.randn(tag_anchor_distance[1:].shape[0])\n",
    "\n",
    "print(tdoa_mat)"
   ]
  },
  {
   "cell_type": "code",
   "execution_count": 5,
   "id": "42d7b6f8",
   "metadata": {},
   "outputs": [
    {
     "name": "stdout",
     "output_type": "stream",
     "text": [
      "   cov_x: array([[ 0.36551699, -0.15654372],\n",
      "       [-0.15654372,  0.29662124]])\n",
      "    fjac: array([[ 2.08706581,  0.74345339,  0.66569517],\n",
      "       [ 0.89384913, -1.65404079, -0.01971777]])\n",
      "     fun: array([-0.04975396, -0.03331468,  0.0420075 ])\n",
      "    ipvt: array([2, 1], dtype=int32)\n",
      " message: 'Both actual and predicted relative reductions in the sum of squares\\n  are at most 0.000000'\n",
      "    nfev: 16\n",
      "     qtf: array([-1.35749153e-07, -3.31124338e-07])\n",
      "  status: 1\n",
      " success: True\n",
      "       x: array([3.93243289, 5.95152741])\n"
     ]
    }
   ],
   "source": [
    "print(root(tdoa_solver, [1, 1],args=(anchor_loc,tdoa_mat),method='lm'))\n"
   ]
  },
  {
   "cell_type": "markdown",
   "id": "21830649",
   "metadata": {},
   "source": [
    "## Test TDoA with noise"
   ]
  },
  {
   "cell_type": "code",
   "execution_count": 6,
   "id": "457b0273",
   "metadata": {},
   "outputs": [],
   "source": [
    "anchor_loc = np.array([[0,0],[10,0],[0,10],[10,10]])\n",
    "tag_loc_true = np.array([4,6])\n",
    "noise = 0.2\n",
    "\n",
    "tag_anchor_distance = np.linalg.norm(anchor_loc-tag_loc_true, axis=1)\n",
    "tdoa_mat = np.zeros([anchor_loc.shape[0],anchor_loc.shape[0]])\n",
    "tag_loc = np.zeros([100,2])\n",
    "for tag_idx in range(100):\n",
    "    tdoa_mat[0,1:] = tag_anchor_distance[1:]-tag_anchor_distance[0] + noise*np.random.randn(tag_anchor_distance[1:].shape[0])\n",
    "\n",
    "    temp = root(tdoa_solver, [1, 1],args=(anchor_loc,tdoa_mat),method='lm')\n",
    "    tag_loc[tag_idx,:] = temp.x\n"
   ]
  },
  {
   "cell_type": "code",
   "execution_count": 7,
   "id": "b38b7a80",
   "metadata": {},
   "outputs": [
    {
     "data": {
      "text/plain": [
       "<matplotlib.collections.PathCollection at 0xab9f4e30>"
      ]
     },
     "execution_count": 7,
     "metadata": {},
     "output_type": "execute_result"
    },
    {
     "data": {
      "image/png": "[encoded data removed]",
      "text/plain": [
       "<Figure size 432x288 with 1 Axes>"
      ]
     },
     "metadata": {
      "needs_background": "light"
     },
     "output_type": "display_data"
    }
   ],
   "source": [
    "plt.scatter(anchor_loc[:,0],anchor_loc[:,1])\n",
    "plt.scatter(tag_loc[:,0],tag_loc[:,1])\n",
    "plt.scatter(tag_loc_true[0],tag_loc_true[1])\n"
   ]
  },
  {
   "cell_type": "markdown",
   "id": "5bbac51a",
   "metadata": {},
   "source": [
    "## Test ToA with noise"
   ]
  },
  {
   "cell_type": "code",
   "execution_count": 8,
   "id": "a0f333b3",
   "metadata": {},
   "outputs": [],
   "source": [
    "anchor_loc = np.array([[0,0],[10,0],[0,10],[10,10]])\n",
    "tag_loc_true = np.array([4,6])\n",
    "noise = 0.1\n",
    "\n",
    "tag_anchor_distance = np.linalg.norm(anchor_loc-tag_loc_true, axis=1)\n",
    "tag_loc = np.zeros([100,2])\n",
    "for tag_idx in range(100):\n",
    "    toa_vec = tag_anchor_distance + noise*np.random.randn(tag_anchor_distance.shape[0])\n",
    "\n",
    "    temp = root(toa_solver, [1, 1],args=(anchor_loc,toa_vec),method='lm')\n",
    "    tag_loc[tag_idx,:] = temp.x\n"
   ]
  },
  {
   "cell_type": "code",
   "execution_count": 9,
   "id": "1be134d0",
   "metadata": {},
   "outputs": [
    {
     "data": {
      "text/plain": [
       "<matplotlib.collections.PathCollection at 0xab945970>"
      ]
     },
     "execution_count": 9,
     "metadata": {},
     "output_type": "execute_result"
    },
    {
     "data": {
      "image/png": "[encoded data removed]",
      "text/plain": [
       "<Figure size 432x288 with 1 Axes>"
      ]
     },
     "metadata": {
      "needs_background": "light"
     },
     "output_type": "display_data"
    }
   ],
   "source": [
    "plt.scatter(anchor_loc[:,0],anchor_loc[:,1])\n",
    "plt.scatter(tag_loc[:,0],tag_loc[:,1])\n",
    "plt.scatter(tag_loc_true[0],tag_loc_true[1])\n"
   ]
  }
 ],
 "metadata": {
  "kernelspec": {
   "display_name": "Python 3 (ipykernel)",
   "language": "python",
   "name": "python3"
  },
  "language_info": {
   "codemirror_mode": {
    "name": "ipython",
    "version": 3
   },
   "file_extension": ".py",
   "mimetype": "text/x-python",
   "name": "python",
   "nbconvert_exporter": "python",
   "pygments_lexer": "ipython3",
   "version": "3.7.3"
  }
 },
 "nbformat": 4,
 "nbformat_minor": 5
}
